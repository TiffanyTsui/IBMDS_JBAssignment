{
 "cells": [
  {
   "cell_type": "markdown",
   "id": "08249f64-e7a1-4418-9b3e-04cf8e5cf9d8",
   "metadata": {},
   "source": [
    "# Data Science Tools and Ecosystem"
   ]
  },
  {
   "cell_type": "markdown",
   "id": "193da5fd-57b4-4dfc-9336-8c75aa83d499",
   "metadata": {},
   "source": [
    "In this notebook, Data Science Tools and Ecosystem are summarized"
   ]
  },
  {
   "cell_type": "markdown",
   "id": "dc876df0-4d25-4431-8065-f346cd085db0",
   "metadata": {},
   "source": [
    "**Objectives:**\n",
    "- List popular languages for data science\n",
    "- List commonly used libraries\n",
    "- List open source data science Tools\n",
    "- Show examples of arithmetic calculations"
   ]
  },
  {
   "cell_type": "markdown",
   "id": "c02896aa-3111-4f98-9886-e7c39693af92",
   "metadata": {},
   "source": [
    "Some of the popular languages that Data Scientists use are: \n",
    "1. Python\n",
    "2. R\n",
    "3. SQL "
   ]
  },
  {
   "cell_type": "markdown",
   "id": "b2a522ae-31e7-4d4e-933c-44d8ea659451",
   "metadata": {},
   "source": [
    "Some of the commonly used libraries used by data scientists include:\n",
    "1. Pandas\n",
    "2. Scikit-learn \n",
    "3. Tensorflow "
   ]
  },
  {
   "cell_type": "markdown",
   "id": "8a8ddb38-2953-4094-87a3-2b6954430395",
   "metadata": {},
   "source": [
    "| Data Science Tools |\n",
    "| --- |\n",
    "| Jupyter Notebooks | \n",
    "| RStudio |\n",
    "| Git |"
   ]
  },
  {
   "cell_type": "markdown",
   "id": "1b22bbeb-a7f8-41bd-9135-9471204b4983",
   "metadata": {},
   "source": [
    "### Below are a few examples of evaluating arithmetic expressions in Python"
   ]
  },
  {
   "cell_type": "code",
   "execution_count": 17,
   "id": "9c56f9ca-8960-45ac-b3d7-1aba49dd2714",
   "metadata": {},
   "outputs": [
    {
     "data": {
      "text/plain": [
       "17"
      ]
     },
     "execution_count": 17,
     "metadata": {},
     "output_type": "execute_result"
    }
   ],
   "source": [
    "(3*4)+5\n",
    "# this is a simple arithmetic expression to multiply then add integers "
   ]
  },
  {
   "cell_type": "code",
   "execution_count": 19,
   "id": "ff7bca33-571c-48cc-bd15-f85d7489c618",
   "metadata": {},
   "outputs": [
    {
     "data": {
      "text/plain": [
       "3.3333333333333335"
      ]
     },
     "execution_count": 19,
     "metadata": {},
     "output_type": "execute_result"
    }
   ],
   "source": [
    "200/60\n",
    "# This will convert 200 minutes to hours by dividing by 60 "
   ]
  },
  {
   "cell_type": "markdown",
   "id": "6ab45464-ba94-4f5d-b54f-5c0bec0ada1f",
   "metadata": {},
   "source": [
    "## Author\n",
    "Tiffany Tsui"
   ]
  },
  {
   "cell_type": "code",
   "execution_count": null,
   "id": "821f8edb-18ea-4594-91aa-da4bcb245219",
   "metadata": {},
   "outputs": [],
   "source": []
  }
 ],
 "metadata": {
  "kernelspec": {
   "display_name": "Python 3 (ipykernel)",
   "language": "python",
   "name": "python3"
  },
  "language_info": {
   "codemirror_mode": {
    "name": "ipython",
    "version": 3
   },
   "file_extension": ".py",
   "mimetype": "text/x-python",
   "name": "python",
   "nbconvert_exporter": "python",
   "pygments_lexer": "ipython3",
   "version": "3.12.2"
  }
 },
 "nbformat": 4,
 "nbformat_minor": 5
}
